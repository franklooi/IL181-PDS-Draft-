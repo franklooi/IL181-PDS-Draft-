{
 "cells": [
  {
   "cell_type": "code",
   "execution_count": 1,
   "metadata": {},
   "outputs": [],
   "source": [
    "import numpy as np\n",
    "import pandas as pd\n",
    "from pathlib import Path\n",
    "\n",
    "import matplotlib.pyplot as plt\n",
    "import seaborn as sns\n",
    "import random\n",
    "from sklearn.ensemble import RandomForestRegressor\n",
    "import xgboost as xgb\n",
    "from time import time\n",
    "import seaborn as sns\n",
    "\n",
    "%matplotlib inline\n",
    "plt.style.use('ggplot')\n",
    "\n",
    "#from utils import *\n",
    "\n",
    "import warnings\n",
    "warnings.filterwarnings(action='ignore')"
   ]
  },
  {
   "cell_type": "code",
   "execution_count": 4,
   "metadata": {},
   "outputs": [],
   "source": [
    "def read_in_data(filename):\n",
    "    '''\n",
    "    input:  (filename of csv file)\n",
    "    read in data file \n",
    "    output: (returns pandas dataframe)   \n",
    "    '''\n",
    "    return pd.read_csv(filename)\n",
    "\n",
    "train = read_in_data('train.csv')\n",
    "store = read_in_data('store.csv')\n",
    "store_states = read_in_data('store_states.csv')\n",
    "state_names = read_in_data('state_names.csv')\n",
    "test = read_in_data('test.csv')"
   ]
  },
  {
   "cell_type": "code",
   "execution_count": null,
   "metadata": {},
   "outputs": [],
   "source": [
    "# select a few random stores and visualize its sales\n",
    "stores = np.random.choice(train['Store'], 5, replace=False)\n",
    "\n",
    "for store in stores:\n",
    "    data = train.loc[train['Store'] == store]\n",
    "    plt.figure(figsize=(20,3))\n",
    "    plt.plot(data['Date'],data['Sales'])\n",
    "    plt.title(\"Sales for store {}\".format(store))\n",
    "    plt.show()\n",
    "    \n",
    "# 6 month missing data is an error in data set up by Rossmann\n",
    "# https://www.kaggle.com/c/rossmann-store-sales/discussion/17048#96947"
   ]
  },
  {
   "cell_type": "code",
   "execution_count": null,
   "metadata": {},
   "outputs": [],
   "source": []
  }
 ],
 "metadata": {
  "kernelspec": {
   "display_name": "Python 3",
   "language": "python",
   "name": "python3"
  },
  "language_info": {
   "codemirror_mode": {
    "name": "ipython",
    "version": 3
   },
   "file_extension": ".py",
   "mimetype": "text/x-python",
   "name": "python",
   "nbconvert_exporter": "python",
   "pygments_lexer": "ipython3",
   "version": "3.7.1"
  }
 },
 "nbformat": 4,
 "nbformat_minor": 2
}
